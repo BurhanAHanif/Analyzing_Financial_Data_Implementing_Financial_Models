{
 "cells": [
  {
   "cell_type": "markdown",
   "metadata": {},
   "source": [
    "## Importing price data from yahoo finance "
   ]
  },
  {
   "cell_type": "code",
   "execution_count": 1,
   "metadata": {},
   "outputs": [],
   "source": [
    "import numpy as np\n",
    "import pandas as pd \n",
    "import matplotlib.pyplot as plt\n",
    "%matplotlib inline "
   ]
  },
  {
   "cell_type": "code",
   "execution_count": 2,
   "metadata": {},
   "outputs": [],
   "source": [
    "import pandas_datareader\n",
    "import datetime"
   ]
  },
  {
   "cell_type": "code",
   "execution_count": 3,
   "metadata": {},
   "outputs": [],
   "source": [
    "import pandas_datareader.data as web"
   ]
  },
  {
   "cell_type": "code",
   "execution_count": 4,
   "metadata": {},
   "outputs": [],
   "source": [
    "start = datetime.datetime(2010,12,31)\n",
    "end = datetime.datetime(2013,12,31)"
   ]
  },
  {
   "cell_type": "code",
   "execution_count": 5,
   "metadata": {},
   "outputs": [],
   "source": [
    "Amzn = web.DataReader('AMZN','yahoo',start,end)"
   ]
  },
  {
   "cell_type": "code",
   "execution_count": 6,
   "metadata": {},
   "outputs": [],
   "source": [
    "Amzn = Amzn[[\"Open\", \"High\", \"Low\", \"Close\", \"Volume\" , \"Adj Close\"]]"
   ]
  },
  {
   "cell_type": "code",
   "execution_count": 7,
   "metadata": {},
   "outputs": [
    {
     "data": {
      "text/html": [
       "<div>\n",
       "<style scoped>\n",
       "    .dataframe tbody tr th:only-of-type {\n",
       "        vertical-align: middle;\n",
       "    }\n",
       "\n",
       "    .dataframe tbody tr th {\n",
       "        vertical-align: top;\n",
       "    }\n",
       "\n",
       "    .dataframe thead th {\n",
       "        text-align: right;\n",
       "    }\n",
       "</style>\n",
       "<table border=\"1\" class=\"dataframe\">\n",
       "  <thead>\n",
       "    <tr style=\"text-align: right;\">\n",
       "      <th></th>\n",
       "      <th>Open</th>\n",
       "      <th>High</th>\n",
       "      <th>Low</th>\n",
       "      <th>Close</th>\n",
       "      <th>Volume</th>\n",
       "      <th>Adj Close</th>\n",
       "    </tr>\n",
       "    <tr>\n",
       "      <th>Date</th>\n",
       "      <th></th>\n",
       "      <th></th>\n",
       "      <th></th>\n",
       "      <th></th>\n",
       "      <th></th>\n",
       "      <th></th>\n",
       "    </tr>\n",
       "  </thead>\n",
       "  <tbody>\n",
       "    <tr>\n",
       "      <td>2010-12-31</td>\n",
       "      <td>181.960007</td>\n",
       "      <td>182.300003</td>\n",
       "      <td>179.509995</td>\n",
       "      <td>180.000000</td>\n",
       "      <td>3451900</td>\n",
       "      <td>180.000000</td>\n",
       "    </tr>\n",
       "    <tr>\n",
       "      <td>2011-01-03</td>\n",
       "      <td>181.369995</td>\n",
       "      <td>186.000000</td>\n",
       "      <td>181.210007</td>\n",
       "      <td>184.220001</td>\n",
       "      <td>5331400</td>\n",
       "      <td>184.220001</td>\n",
       "    </tr>\n",
       "    <tr>\n",
       "      <td>2011-01-04</td>\n",
       "      <td>186.149994</td>\n",
       "      <td>187.699997</td>\n",
       "      <td>183.779999</td>\n",
       "      <td>185.009995</td>\n",
       "      <td>5031800</td>\n",
       "      <td>185.009995</td>\n",
       "    </tr>\n",
       "    <tr>\n",
       "      <td>2011-01-05</td>\n",
       "      <td>184.100006</td>\n",
       "      <td>187.449997</td>\n",
       "      <td>184.070007</td>\n",
       "      <td>187.419998</td>\n",
       "      <td>3418800</td>\n",
       "      <td>187.419998</td>\n",
       "    </tr>\n",
       "    <tr>\n",
       "      <td>2011-01-06</td>\n",
       "      <td>186.500000</td>\n",
       "      <td>187.410004</td>\n",
       "      <td>185.250000</td>\n",
       "      <td>185.860001</td>\n",
       "      <td>3179700</td>\n",
       "      <td>185.860001</td>\n",
       "    </tr>\n",
       "  </tbody>\n",
       "</table>\n",
       "</div>"
      ],
      "text/plain": [
       "                  Open        High         Low       Close   Volume  \\\n",
       "Date                                                                  \n",
       "2010-12-31  181.960007  182.300003  179.509995  180.000000  3451900   \n",
       "2011-01-03  181.369995  186.000000  181.210007  184.220001  5331400   \n",
       "2011-01-04  186.149994  187.699997  183.779999  185.009995  5031800   \n",
       "2011-01-05  184.100006  187.449997  184.070007  187.419998  3418800   \n",
       "2011-01-06  186.500000  187.410004  185.250000  185.860001  3179700   \n",
       "\n",
       "             Adj Close  \n",
       "Date                    \n",
       "2010-12-31  180.000000  \n",
       "2011-01-03  184.220001  \n",
       "2011-01-04  185.009995  \n",
       "2011-01-05  187.419998  \n",
       "2011-01-06  185.860001  "
      ]
     },
     "execution_count": 7,
     "metadata": {},
     "output_type": "execute_result"
    }
   ],
   "source": [
    "Amzn.head()"
   ]
  },
  {
   "cell_type": "code",
   "execution_count": 8,
   "metadata": {},
   "outputs": [
    {
     "data": {
      "text/html": [
       "<div>\n",
       "<style scoped>\n",
       "    .dataframe tbody tr th:only-of-type {\n",
       "        vertical-align: middle;\n",
       "    }\n",
       "\n",
       "    .dataframe tbody tr th {\n",
       "        vertical-align: top;\n",
       "    }\n",
       "\n",
       "    .dataframe thead th {\n",
       "        text-align: right;\n",
       "    }\n",
       "</style>\n",
       "<table border=\"1\" class=\"dataframe\">\n",
       "  <thead>\n",
       "    <tr style=\"text-align: right;\">\n",
       "      <th></th>\n",
       "      <th>Open</th>\n",
       "      <th>High</th>\n",
       "      <th>Low</th>\n",
       "      <th>Close</th>\n",
       "      <th>Volume</th>\n",
       "      <th>Adj Close</th>\n",
       "    </tr>\n",
       "    <tr>\n",
       "      <th>Date</th>\n",
       "      <th></th>\n",
       "      <th></th>\n",
       "      <th></th>\n",
       "      <th></th>\n",
       "      <th></th>\n",
       "      <th></th>\n",
       "    </tr>\n",
       "  </thead>\n",
       "  <tbody>\n",
       "    <tr>\n",
       "      <td>2013-12-24</td>\n",
       "      <td>402.519989</td>\n",
       "      <td>403.720001</td>\n",
       "      <td>396.369995</td>\n",
       "      <td>399.200012</td>\n",
       "      <td>1380400</td>\n",
       "      <td>399.200012</td>\n",
       "    </tr>\n",
       "    <tr>\n",
       "      <td>2013-12-26</td>\n",
       "      <td>401.790009</td>\n",
       "      <td>404.519989</td>\n",
       "      <td>396.809998</td>\n",
       "      <td>404.390015</td>\n",
       "      <td>1868500</td>\n",
       "      <td>404.390015</td>\n",
       "    </tr>\n",
       "    <tr>\n",
       "      <td>2013-12-27</td>\n",
       "      <td>404.649994</td>\n",
       "      <td>405.630005</td>\n",
       "      <td>396.250000</td>\n",
       "      <td>398.079987</td>\n",
       "      <td>1986900</td>\n",
       "      <td>398.079987</td>\n",
       "    </tr>\n",
       "    <tr>\n",
       "      <td>2013-12-30</td>\n",
       "      <td>399.410004</td>\n",
       "      <td>399.920013</td>\n",
       "      <td>392.450012</td>\n",
       "      <td>393.369995</td>\n",
       "      <td>2487100</td>\n",
       "      <td>393.369995</td>\n",
       "    </tr>\n",
       "    <tr>\n",
       "      <td>2013-12-31</td>\n",
       "      <td>394.579987</td>\n",
       "      <td>398.829987</td>\n",
       "      <td>393.799988</td>\n",
       "      <td>398.790009</td>\n",
       "      <td>1996500</td>\n",
       "      <td>398.790009</td>\n",
       "    </tr>\n",
       "  </tbody>\n",
       "</table>\n",
       "</div>"
      ],
      "text/plain": [
       "                  Open        High         Low       Close   Volume  \\\n",
       "Date                                                                  \n",
       "2013-12-24  402.519989  403.720001  396.369995  399.200012  1380400   \n",
       "2013-12-26  401.790009  404.519989  396.809998  404.390015  1868500   \n",
       "2013-12-27  404.649994  405.630005  396.250000  398.079987  1986900   \n",
       "2013-12-30  399.410004  399.920013  392.450012  393.369995  2487100   \n",
       "2013-12-31  394.579987  398.829987  393.799988  398.790009  1996500   \n",
       "\n",
       "             Adj Close  \n",
       "Date                    \n",
       "2013-12-24  399.200012  \n",
       "2013-12-26  404.390015  \n",
       "2013-12-27  398.079987  \n",
       "2013-12-30  393.369995  \n",
       "2013-12-31  398.790009  "
      ]
     },
     "execution_count": 8,
     "metadata": {},
     "output_type": "execute_result"
    }
   ],
   "source": [
    "Amzn.tail()"
   ]
  },
  {
   "cell_type": "code",
   "execution_count": 9,
   "metadata": {},
   "outputs": [],
   "source": [
    "Amzn = pd.DataFrame(data = Amzn)"
   ]
  },
  {
   "cell_type": "code",
   "execution_count": 10,
   "metadata": {},
   "outputs": [],
   "source": [
    "Amzn.columns=[ \"AMZN.Open\" , \"AMZN.High\" ,  \"AMZN.Low\",  \"AMZN.Close\",  \"AMZN.Volume\", \"AMZN.Adjusted\"]"
   ]
  },
  {
   "cell_type": "code",
   "execution_count": 11,
   "metadata": {},
   "outputs": [
    {
     "data": {
      "text/html": [
       "<div>\n",
       "<style scoped>\n",
       "    .dataframe tbody tr th:only-of-type {\n",
       "        vertical-align: middle;\n",
       "    }\n",
       "\n",
       "    .dataframe tbody tr th {\n",
       "        vertical-align: top;\n",
       "    }\n",
       "\n",
       "    .dataframe thead th {\n",
       "        text-align: right;\n",
       "    }\n",
       "</style>\n",
       "<table border=\"1\" class=\"dataframe\">\n",
       "  <thead>\n",
       "    <tr style=\"text-align: right;\">\n",
       "      <th></th>\n",
       "      <th>AMZN.Open</th>\n",
       "      <th>AMZN.High</th>\n",
       "      <th>AMZN.Low</th>\n",
       "      <th>AMZN.Close</th>\n",
       "      <th>AMZN.Volume</th>\n",
       "      <th>AMZN.Adjusted</th>\n",
       "    </tr>\n",
       "    <tr>\n",
       "      <th>Date</th>\n",
       "      <th></th>\n",
       "      <th></th>\n",
       "      <th></th>\n",
       "      <th></th>\n",
       "      <th></th>\n",
       "      <th></th>\n",
       "    </tr>\n",
       "  </thead>\n",
       "  <tbody>\n",
       "    <tr>\n",
       "      <td>2010-12-31</td>\n",
       "      <td>181.960007</td>\n",
       "      <td>182.300003</td>\n",
       "      <td>179.509995</td>\n",
       "      <td>180.000000</td>\n",
       "      <td>3451900</td>\n",
       "      <td>180.000000</td>\n",
       "    </tr>\n",
       "    <tr>\n",
       "      <td>2011-01-03</td>\n",
       "      <td>181.369995</td>\n",
       "      <td>186.000000</td>\n",
       "      <td>181.210007</td>\n",
       "      <td>184.220001</td>\n",
       "      <td>5331400</td>\n",
       "      <td>184.220001</td>\n",
       "    </tr>\n",
       "    <tr>\n",
       "      <td>2011-01-04</td>\n",
       "      <td>186.149994</td>\n",
       "      <td>187.699997</td>\n",
       "      <td>183.779999</td>\n",
       "      <td>185.009995</td>\n",
       "      <td>5031800</td>\n",
       "      <td>185.009995</td>\n",
       "    </tr>\n",
       "    <tr>\n",
       "      <td>2011-01-05</td>\n",
       "      <td>184.100006</td>\n",
       "      <td>187.449997</td>\n",
       "      <td>184.070007</td>\n",
       "      <td>187.419998</td>\n",
       "      <td>3418800</td>\n",
       "      <td>187.419998</td>\n",
       "    </tr>\n",
       "    <tr>\n",
       "      <td>2011-01-06</td>\n",
       "      <td>186.500000</td>\n",
       "      <td>187.410004</td>\n",
       "      <td>185.250000</td>\n",
       "      <td>185.860001</td>\n",
       "      <td>3179700</td>\n",
       "      <td>185.860001</td>\n",
       "    </tr>\n",
       "  </tbody>\n",
       "</table>\n",
       "</div>"
      ],
      "text/plain": [
       "             AMZN.Open   AMZN.High    AMZN.Low  AMZN.Close  AMZN.Volume  \\\n",
       "Date                                                                      \n",
       "2010-12-31  181.960007  182.300003  179.509995  180.000000      3451900   \n",
       "2011-01-03  181.369995  186.000000  181.210007  184.220001      5331400   \n",
       "2011-01-04  186.149994  187.699997  183.779999  185.009995      5031800   \n",
       "2011-01-05  184.100006  187.449997  184.070007  187.419998      3418800   \n",
       "2011-01-06  186.500000  187.410004  185.250000  185.860001      3179700   \n",
       "\n",
       "            AMZN.Adjusted  \n",
       "Date                       \n",
       "2010-12-31     180.000000  \n",
       "2011-01-03     184.220001  \n",
       "2011-01-04     185.009995  \n",
       "2011-01-05     187.419998  \n",
       "2011-01-06     185.860001  "
      ]
     },
     "execution_count": 11,
     "metadata": {},
     "output_type": "execute_result"
    }
   ],
   "source": [
    "Amzn.head()"
   ]
  },
  {
   "cell_type": "code",
   "execution_count": 12,
   "metadata": {},
   "outputs": [
    {
     "data": {
      "text/html": [
       "<div>\n",
       "<style scoped>\n",
       "    .dataframe tbody tr th:only-of-type {\n",
       "        vertical-align: middle;\n",
       "    }\n",
       "\n",
       "    .dataframe tbody tr th {\n",
       "        vertical-align: top;\n",
       "    }\n",
       "\n",
       "    .dataframe thead th {\n",
       "        text-align: right;\n",
       "    }\n",
       "</style>\n",
       "<table border=\"1\" class=\"dataframe\">\n",
       "  <thead>\n",
       "    <tr style=\"text-align: right;\">\n",
       "      <th></th>\n",
       "      <th>AMZN.Open</th>\n",
       "      <th>AMZN.High</th>\n",
       "      <th>AMZN.Low</th>\n",
       "      <th>AMZN.Close</th>\n",
       "      <th>AMZN.Volume</th>\n",
       "      <th>AMZN.Adjusted</th>\n",
       "    </tr>\n",
       "    <tr>\n",
       "      <th>Date</th>\n",
       "      <th></th>\n",
       "      <th></th>\n",
       "      <th></th>\n",
       "      <th></th>\n",
       "      <th></th>\n",
       "      <th></th>\n",
       "    </tr>\n",
       "  </thead>\n",
       "  <tbody>\n",
       "    <tr>\n",
       "      <td>2013-12-24</td>\n",
       "      <td>402.519989</td>\n",
       "      <td>403.720001</td>\n",
       "      <td>396.369995</td>\n",
       "      <td>399.200012</td>\n",
       "      <td>1380400</td>\n",
       "      <td>399.200012</td>\n",
       "    </tr>\n",
       "    <tr>\n",
       "      <td>2013-12-26</td>\n",
       "      <td>401.790009</td>\n",
       "      <td>404.519989</td>\n",
       "      <td>396.809998</td>\n",
       "      <td>404.390015</td>\n",
       "      <td>1868500</td>\n",
       "      <td>404.390015</td>\n",
       "    </tr>\n",
       "    <tr>\n",
       "      <td>2013-12-27</td>\n",
       "      <td>404.649994</td>\n",
       "      <td>405.630005</td>\n",
       "      <td>396.250000</td>\n",
       "      <td>398.079987</td>\n",
       "      <td>1986900</td>\n",
       "      <td>398.079987</td>\n",
       "    </tr>\n",
       "    <tr>\n",
       "      <td>2013-12-30</td>\n",
       "      <td>399.410004</td>\n",
       "      <td>399.920013</td>\n",
       "      <td>392.450012</td>\n",
       "      <td>393.369995</td>\n",
       "      <td>2487100</td>\n",
       "      <td>393.369995</td>\n",
       "    </tr>\n",
       "    <tr>\n",
       "      <td>2013-12-31</td>\n",
       "      <td>394.579987</td>\n",
       "      <td>398.829987</td>\n",
       "      <td>393.799988</td>\n",
       "      <td>398.790009</td>\n",
       "      <td>1996500</td>\n",
       "      <td>398.790009</td>\n",
       "    </tr>\n",
       "  </tbody>\n",
       "</table>\n",
       "</div>"
      ],
      "text/plain": [
       "             AMZN.Open   AMZN.High    AMZN.Low  AMZN.Close  AMZN.Volume  \\\n",
       "Date                                                                      \n",
       "2013-12-24  402.519989  403.720001  396.369995  399.200012      1380400   \n",
       "2013-12-26  401.790009  404.519989  396.809998  404.390015      1868500   \n",
       "2013-12-27  404.649994  405.630005  396.250000  398.079987      1986900   \n",
       "2013-12-30  399.410004  399.920013  392.450012  393.369995      2487100   \n",
       "2013-12-31  394.579987  398.829987  393.799988  398.790009      1996500   \n",
       "\n",
       "            AMZN.Adjusted  \n",
       "Date                       \n",
       "2013-12-24     399.200012  \n",
       "2013-12-26     404.390015  \n",
       "2013-12-27     398.079987  \n",
       "2013-12-30     393.369995  \n",
       "2013-12-31     398.790009  "
      ]
     },
     "execution_count": 12,
     "metadata": {},
     "output_type": "execute_result"
    }
   ],
   "source": [
    "Amzn.tail()"
   ]
  },
  {
   "cell_type": "code",
   "execution_count": 13,
   "metadata": {},
   "outputs": [
    {
     "data": {
      "text/plain": [
       "pandas.core.frame.DataFrame"
      ]
     },
     "execution_count": 13,
     "metadata": {},
     "output_type": "execute_result"
    }
   ],
   "source": [
    "type(Amzn)"
   ]
  },
  {
   "cell_type": "markdown",
   "metadata": {},
   "source": [
    "## Checking the data"
   ]
  },
  {
   "cell_type": "code",
   "execution_count": 14,
   "metadata": {},
   "outputs": [],
   "source": [
    "import matplotlib as mpl\n",
    "import matplotlib.pyplot as plt\n",
    "plt.style.use('seaborn')\n",
    "mpl.rcParams['font.family'] = 'serif'\n",
    "%matplotlib inline"
   ]
  },
  {
   "cell_type": "code",
   "execution_count": 15,
   "metadata": {},
   "outputs": [
    {
     "data": {
      "text/plain": [
       "<matplotlib.axes._subplots.AxesSubplot at 0x2599b3bdc88>"
      ]
     },
     "execution_count": 15,
     "metadata": {},
     "output_type": "execute_result"
    },
    {
     "data": {
      "image/png": "[encoded data removed]",
      "text/plain": [
       "<Figure size 720x576 with 1 Axes>"
      ]
     },
     "metadata": {
      "needs_background": "light"
     },
     "output_type": "display_data"
    }
   ],
   "source": [
    "Amzn['AMZN.Close'].plot(label = 'Amazon close', figsize= (10,8))"
   ]
  },
  {
   "cell_type": "code",
   "execution_count": 16,
   "metadata": {},
   "outputs": [],
   "source": [
    "missing_rows = Amzn.iloc[400:500]"
   ]
  },
  {
   "cell_type": "code",
   "execution_count": 17,
   "metadata": {},
   "outputs": [
    {
     "data": {
      "text/plain": [
       "<matplotlib.axes._subplots.AxesSubplot at 0x2599d3d2748>"
      ]
     },
     "execution_count": 17,
     "metadata": {},
     "output_type": "execute_result"
    },
    {
     "data": {
      "image/png": "[encoded data removed]",
      "text/plain": [
       "<Figure size 720x864 with 1 Axes>"
      ]
     },
     "metadata": {
      "needs_background": "light"
     },
     "output_type": "display_data"
    }
   ],
   "source": [
    "missing_rows['AMZN.Close'].plot(label = 'Amazon close for the missing rows', figsize=(10,12))"
   ]
  },
  {
   "cell_type": "code",
   "execution_count": 18,
   "metadata": {},
   "outputs": [
    {
     "data": {
      "text/plain": [
       "(755, 6)"
      ]
     },
     "execution_count": 18,
     "metadata": {},
     "output_type": "execute_result"
    }
   ],
   "source": [
    "## checking the dimension because of the days traded taking out weekends and holidays \n",
    "## check the dimension it should be 252 * 3 = 755 with 6 coloums from the yahoo data\n",
    "Amzn.shape\n"
   ]
  },
  {
   "cell_type": "code",
   "execution_count": 19,
   "metadata": {},
   "outputs": [
    {
     "data": {
      "text/html": [
       "<div>\n",
       "<style scoped>\n",
       "    .dataframe tbody tr th:only-of-type {\n",
       "        vertical-align: middle;\n",
       "    }\n",
       "\n",
       "    .dataframe tbody tr th {\n",
       "        vertical-align: top;\n",
       "    }\n",
       "\n",
       "    .dataframe thead th {\n",
       "        text-align: right;\n",
       "    }\n",
       "</style>\n",
       "<table border=\"1\" class=\"dataframe\">\n",
       "  <thead>\n",
       "    <tr style=\"text-align: right;\">\n",
       "      <th></th>\n",
       "      <th>AMZN.Open</th>\n",
       "      <th>AMZN.High</th>\n",
       "      <th>AMZN.Low</th>\n",
       "      <th>AMZN.Close</th>\n",
       "      <th>AMZN.Volume</th>\n",
       "      <th>AMZN.Adjusted</th>\n",
       "    </tr>\n",
       "  </thead>\n",
       "  <tbody>\n",
       "    <tr>\n",
       "      <td>count</td>\n",
       "      <td>755.000000</td>\n",
       "      <td>755.000000</td>\n",
       "      <td>755.000000</td>\n",
       "      <td>755.000000</td>\n",
       "      <td>7.550000e+02</td>\n",
       "      <td>755.000000</td>\n",
       "    </tr>\n",
       "    <tr>\n",
       "      <td>mean</td>\n",
       "      <td>238.158953</td>\n",
       "      <td>240.997589</td>\n",
       "      <td>235.237549</td>\n",
       "      <td>238.306252</td>\n",
       "      <td>4.319524e+06</td>\n",
       "      <td>238.306252</td>\n",
       "    </tr>\n",
       "    <tr>\n",
       "      <td>std</td>\n",
       "      <td>53.059365</td>\n",
       "      <td>53.276952</td>\n",
       "      <td>52.736751</td>\n",
       "      <td>53.071766</td>\n",
       "      <td>2.628702e+06</td>\n",
       "      <td>53.071766</td>\n",
       "    </tr>\n",
       "    <tr>\n",
       "      <td>min</td>\n",
       "      <td>161.190002</td>\n",
       "      <td>163.539993</td>\n",
       "      <td>160.589996</td>\n",
       "      <td>160.970001</td>\n",
       "      <td>9.844000e+05</td>\n",
       "      <td>160.970001</td>\n",
       "    </tr>\n",
       "    <tr>\n",
       "      <td>25%</td>\n",
       "      <td>192.839996</td>\n",
       "      <td>195.400002</td>\n",
       "      <td>190.214996</td>\n",
       "      <td>193.295006</td>\n",
       "      <td>2.660750e+06</td>\n",
       "      <td>193.295006</td>\n",
       "    </tr>\n",
       "    <tr>\n",
       "      <td>50%</td>\n",
       "      <td>226.589996</td>\n",
       "      <td>230.679993</td>\n",
       "      <td>224.600006</td>\n",
       "      <td>227.350006</td>\n",
       "      <td>3.706200e+06</td>\n",
       "      <td>227.350006</td>\n",
       "    </tr>\n",
       "    <tr>\n",
       "      <td>75%</td>\n",
       "      <td>266.714996</td>\n",
       "      <td>269.440002</td>\n",
       "      <td>263.775009</td>\n",
       "      <td>266.449997</td>\n",
       "      <td>5.160950e+06</td>\n",
       "      <td>266.449997</td>\n",
       "    </tr>\n",
       "    <tr>\n",
       "      <td>max</td>\n",
       "      <td>404.649994</td>\n",
       "      <td>405.630005</td>\n",
       "      <td>399.200012</td>\n",
       "      <td>404.390015</td>\n",
       "      <td>2.413420e+07</td>\n",
       "      <td>404.390015</td>\n",
       "    </tr>\n",
       "  </tbody>\n",
       "</table>\n",
       "</div>"
      ],
      "text/plain": [
       "        AMZN.Open   AMZN.High    AMZN.Low  AMZN.Close   AMZN.Volume  \\\n",
       "count  755.000000  755.000000  755.000000  755.000000  7.550000e+02   \n",
       "mean   238.158953  240.997589  235.237549  238.306252  4.319524e+06   \n",
       "std     53.059365   53.276952   52.736751   53.071766  2.628702e+06   \n",
       "min    161.190002  163.539993  160.589996  160.970001  9.844000e+05   \n",
       "25%    192.839996  195.400002  190.214996  193.295006  2.660750e+06   \n",
       "50%    226.589996  230.679993  224.600006  227.350006  3.706200e+06   \n",
       "75%    266.714996  269.440002  263.775009  266.449997  5.160950e+06   \n",
       "max    404.649994  405.630005  399.200012  404.390015  2.413420e+07   \n",
       "\n",
       "       AMZN.Adjusted  \n",
       "count     755.000000  \n",
       "mean      238.306252  \n",
       "std        53.071766  \n",
       "min       160.970001  \n",
       "25%       193.295006  \n",
       "50%       227.350006  \n",
       "75%       266.449997  \n",
       "max       404.390015  "
      ]
     },
     "execution_count": 19,
     "metadata": {},
     "output_type": "execute_result"
    }
   ],
   "source": [
    "Amzn.describe()"
   ]
  },
  {
   "cell_type": "code",
   "execution_count": 43,
   "metadata": {},
   "outputs": [
    {
     "data": {
      "text/html": [
       "<div>\n",
       "<style scoped>\n",
       "    .dataframe tbody tr th:only-of-type {\n",
       "        vertical-align: middle;\n",
       "    }\n",
       "\n",
       "    .dataframe tbody tr th {\n",
       "        vertical-align: top;\n",
       "    }\n",
       "\n",
       "    .dataframe thead th {\n",
       "        text-align: right;\n",
       "    }\n",
       "</style>\n",
       "<table border=\"1\" class=\"dataframe\">\n",
       "  <thead>\n",
       "    <tr style=\"text-align: right;\">\n",
       "      <th></th>\n",
       "      <th>AMZN.Open</th>\n",
       "      <th>AMZN.High</th>\n",
       "      <th>AMZN.Low</th>\n",
       "      <th>AMZN.Close</th>\n",
       "      <th>AMZN.Volume</th>\n",
       "      <th>AMZN.Adjusted</th>\n",
       "    </tr>\n",
       "    <tr>\n",
       "      <th>Date</th>\n",
       "      <th></th>\n",
       "      <th></th>\n",
       "      <th></th>\n",
       "      <th></th>\n",
       "      <th></th>\n",
       "      <th></th>\n",
       "    </tr>\n",
       "  </thead>\n",
       "  <tbody>\n",
       "    <tr>\n",
       "      <td>2010-12-31</td>\n",
       "      <td>181.960007</td>\n",
       "      <td>182.300003</td>\n",
       "      <td>179.509995</td>\n",
       "      <td>180.0</td>\n",
       "      <td>3451900</td>\n",
       "      <td>180.0</td>\n",
       "    </tr>\n",
       "  </tbody>\n",
       "</table>\n",
       "</div>"
      ],
      "text/plain": [
       "             AMZN.Open   AMZN.High    AMZN.Low  AMZN.Close  AMZN.Volume  \\\n",
       "Date                                                                      \n",
       "2010-12-31  181.960007  182.300003  179.509995       180.0      3451900   \n",
       "\n",
       "            AMZN.Adjusted  \n",
       "Date                       \n",
       "2010-12-31          180.0  "
      ]
     },
     "execution_count": 43,
     "metadata": {},
     "output_type": "execute_result"
    }
   ],
   "source": [
    "Amzn.iloc[[0]]"
   ]
  },
  {
   "cell_type": "code",
   "execution_count": 44,
   "metadata": {},
   "outputs": [
    {
     "data": {
      "text/html": [
       "<div>\n",
       "<style scoped>\n",
       "    .dataframe tbody tr th:only-of-type {\n",
       "        vertical-align: middle;\n",
       "    }\n",
       "\n",
       "    .dataframe tbody tr th {\n",
       "        vertical-align: top;\n",
       "    }\n",
       "\n",
       "    .dataframe thead th {\n",
       "        text-align: right;\n",
       "    }\n",
       "</style>\n",
       "<table border=\"1\" class=\"dataframe\">\n",
       "  <thead>\n",
       "    <tr style=\"text-align: right;\">\n",
       "      <th></th>\n",
       "      <th>AMZN.Open</th>\n",
       "      <th>AMZN.High</th>\n",
       "      <th>AMZN.Low</th>\n",
       "      <th>AMZN.Close</th>\n",
       "      <th>AMZN.Volume</th>\n",
       "      <th>AMZN.Adjusted</th>\n",
       "    </tr>\n",
       "    <tr>\n",
       "      <th>Date</th>\n",
       "      <th></th>\n",
       "      <th></th>\n",
       "      <th></th>\n",
       "      <th></th>\n",
       "      <th></th>\n",
       "      <th></th>\n",
       "    </tr>\n",
       "  </thead>\n",
       "  <tbody>\n",
       "    <tr>\n",
       "      <td>2013-12-31</td>\n",
       "      <td>394.579987</td>\n",
       "      <td>398.829987</td>\n",
       "      <td>393.799988</td>\n",
       "      <td>398.790009</td>\n",
       "      <td>1996500</td>\n",
       "      <td>398.790009</td>\n",
       "    </tr>\n",
       "  </tbody>\n",
       "</table>\n",
       "</div>"
      ],
      "text/plain": [
       "             AMZN.Open   AMZN.High    AMZN.Low  AMZN.Close  AMZN.Volume  \\\n",
       "Date                                                                      \n",
       "2013-12-31  394.579987  398.829987  393.799988  398.790009      1996500   \n",
       "\n",
       "            AMZN.Adjusted  \n",
       "Date                       \n",
       "2013-12-31     398.790009  "
      ]
     },
     "execution_count": 44,
     "metadata": {},
     "output_type": "execute_result"
    }
   ],
   "source": [
    "Amzn.iloc[[-1]]"
   ]
  },
  {
   "cell_type": "code",
   "execution_count": 45,
   "metadata": {},
   "outputs": [],
   "source": [
    "# keeping first and last row for the data object \n",
    "Amzn.First_lastrows = Amzn.iloc[[0,-1]]"
   ]
  },
  {
   "cell_type": "code",
   "execution_count": 46,
   "metadata": {},
   "outputs": [
    {
     "data": {
      "text/html": [
       "<div>\n",
       "<style scoped>\n",
       "    .dataframe tbody tr th:only-of-type {\n",
       "        vertical-align: middle;\n",
       "    }\n",
       "\n",
       "    .dataframe tbody tr th {\n",
       "        vertical-align: top;\n",
       "    }\n",
       "\n",
       "    .dataframe thead th {\n",
       "        text-align: right;\n",
       "    }\n",
       "</style>\n",
       "<table border=\"1\" class=\"dataframe\">\n",
       "  <thead>\n",
       "    <tr style=\"text-align: right;\">\n",
       "      <th></th>\n",
       "      <th>AMZN.Open</th>\n",
       "      <th>AMZN.High</th>\n",
       "      <th>AMZN.Low</th>\n",
       "      <th>AMZN.Close</th>\n",
       "      <th>AMZN.Volume</th>\n",
       "      <th>AMZN.Adjusted</th>\n",
       "    </tr>\n",
       "    <tr>\n",
       "      <th>Date</th>\n",
       "      <th></th>\n",
       "      <th></th>\n",
       "      <th></th>\n",
       "      <th></th>\n",
       "      <th></th>\n",
       "      <th></th>\n",
       "    </tr>\n",
       "  </thead>\n",
       "  <tbody>\n",
       "    <tr>\n",
       "      <td>2010-12-31</td>\n",
       "      <td>181.960007</td>\n",
       "      <td>182.300003</td>\n",
       "      <td>179.509995</td>\n",
       "      <td>180.000000</td>\n",
       "      <td>3451900</td>\n",
       "      <td>180.000000</td>\n",
       "    </tr>\n",
       "    <tr>\n",
       "      <td>2013-12-31</td>\n",
       "      <td>394.579987</td>\n",
       "      <td>398.829987</td>\n",
       "      <td>393.799988</td>\n",
       "      <td>398.790009</td>\n",
       "      <td>1996500</td>\n",
       "      <td>398.790009</td>\n",
       "    </tr>\n",
       "  </tbody>\n",
       "</table>\n",
       "</div>"
      ],
      "text/plain": [
       "             AMZN.Open   AMZN.High    AMZN.Low  AMZN.Close  AMZN.Volume  \\\n",
       "Date                                                                      \n",
       "2010-12-31  181.960007  182.300003  179.509995  180.000000      3451900   \n",
       "2013-12-31  394.579987  398.829987  393.799988  398.790009      1996500   \n",
       "\n",
       "            AMZN.Adjusted  \n",
       "Date                       \n",
       "2010-12-31     180.000000  \n",
       "2013-12-31     398.790009  "
      ]
     },
     "execution_count": 46,
     "metadata": {},
     "output_type": "execute_result"
    }
   ],
   "source": [
    "Amzn.First_lastrows"
   ]
  },
  {
   "cell_type": "code",
   "execution_count": null,
   "metadata": {},
   "outputs": [],
   "source": []
  },
  {
   "cell_type": "code",
   "execution_count": null,
   "metadata": {},
   "outputs": [],
   "source": []
  },
  {
   "cell_type": "code",
   "execution_count": null,
   "metadata": {},
   "outputs": [],
   "source": []
  },
  {
   "cell_type": "code",
   "execution_count": null,
   "metadata": {},
   "outputs": [],
   "source": []
  },
  {
   "cell_type": "code",
   "execution_count": null,
   "metadata": {},
   "outputs": [],
   "source": [
    "\n"
   ]
  },
  {
   "cell_type": "code",
   "execution_count": null,
   "metadata": {},
   "outputs": [],
   "source": []
  },
  {
   "cell_type": "code",
   "execution_count": null,
   "metadata": {},
   "outputs": [],
   "source": []
  },
  {
   "cell_type": "code",
   "execution_count": null,
   "metadata": {},
   "outputs": [],
   "source": []
  },
  {
   "cell_type": "code",
   "execution_count": null,
   "metadata": {},
   "outputs": [],
   "source": []
  },
  {
   "cell_type": "code",
   "execution_count": null,
   "metadata": {},
   "outputs": [],
   "source": []
  },
  {
   "cell_type": "code",
   "execution_count": null,
   "metadata": {},
   "outputs": [],
   "source": []
  },
  {
   "cell_type": "code",
   "execution_count": null,
   "metadata": {},
   "outputs": [],
   "source": []
  },
  {
   "cell_type": "code",
   "execution_count": null,
   "metadata": {},
   "outputs": [],
   "source": []
  },
  {
   "cell_type": "code",
   "execution_count": null,
   "metadata": {},
   "outputs": [],
   "source": []
  },
  {
   "cell_type": "code",
   "execution_count": null,
   "metadata": {},
   "outputs": [],
   "source": []
  },
  {
   "cell_type": "code",
   "execution_count": null,
   "metadata": {},
   "outputs": [],
   "source": []
  },
  {
   "cell_type": "code",
   "execution_count": null,
   "metadata": {},
   "outputs": [],
   "source": []
  },
  {
   "cell_type": "code",
   "execution_count": null,
   "metadata": {},
   "outputs": [],
   "source": []
  },
  {
   "cell_type": "code",
   "execution_count": null,
   "metadata": {},
   "outputs": [],
   "source": []
  },
  {
   "cell_type": "code",
   "execution_count": null,
   "metadata": {},
   "outputs": [],
   "source": []
  },
  {
   "cell_type": "markdown",
   "metadata": {},
   "source": []
  },
  {
   "cell_type": "code",
   "execution_count": null,
   "metadata": {},
   "outputs": [],
   "source": []
  },
  {
   "cell_type": "code",
   "execution_count": null,
   "metadata": {},
   "outputs": [],
   "source": []
  },
  {
   "cell_type": "code",
   "execution_count": null,
   "metadata": {},
   "outputs": [],
   "source": []
  },
  {
   "cell_type": "code",
   "execution_count": null,
   "metadata": {},
   "outputs": [],
   "source": []
  },
  {
   "cell_type": "code",
   "execution_count": null,
   "metadata": {},
   "outputs": [],
   "source": []
  },
  {
   "cell_type": "code",
   "execution_count": null,
   "metadata": {},
   "outputs": [],
   "source": []
  },
  {
   "cell_type": "code",
   "execution_count": null,
   "metadata": {},
   "outputs": [],
   "source": []
  },
  {
   "cell_type": "code",
   "execution_count": null,
   "metadata": {},
   "outputs": [],
   "source": []
  },
  {
   "cell_type": "code",
   "execution_count": null,
   "metadata": {},
   "outputs": [],
   "source": []
  },
  {
   "cell_type": "code",
   "execution_count": null,
   "metadata": {},
   "outputs": [],
   "source": []
  },
  {
   "cell_type": "code",
   "execution_count": null,
   "metadata": {},
   "outputs": [],
   "source": []
  },
  {
   "cell_type": "code",
   "execution_count": null,
   "metadata": {},
   "outputs": [],
   "source": []
  },
  {
   "cell_type": "code",
   "execution_count": null,
   "metadata": {},
   "outputs": [],
   "source": []
  },
  {
   "cell_type": "code",
   "execution_count": null,
   "metadata": {},
   "outputs": [],
   "source": []
  },
  {
   "cell_type": "code",
   "execution_count": null,
   "metadata": {},
   "outputs": [],
   "source": []
  },
  {
   "cell_type": "code",
   "execution_count": null,
   "metadata": {},
   "outputs": [],
   "source": []
  },
  {
   "cell_type": "code",
   "execution_count": null,
   "metadata": {},
   "outputs": [],
   "source": []
  },
  {
   "cell_type": "code",
   "execution_count": null,
   "metadata": {},
   "outputs": [],
   "source": []
  },
  {
   "cell_type": "code",
   "execution_count": null,
   "metadata": {},
   "outputs": [],
   "source": []
  },
  {
   "cell_type": "code",
   "execution_count": null,
   "metadata": {},
   "outputs": [],
   "source": []
  },
  {
   "cell_type": "code",
   "execution_count": null,
   "metadata": {},
   "outputs": [],
   "source": []
  },
  {
   "cell_type": "code",
   "execution_count": null,
   "metadata": {},
   "outputs": [],
   "source": []
  },
  {
   "cell_type": "code",
   "execution_count": null,
   "metadata": {},
   "outputs": [],
   "source": []
  },
  {
   "cell_type": "code",
   "execution_count": null,
   "metadata": {},
   "outputs": [],
   "source": []
  },
  {
   "cell_type": "code",
   "execution_count": null,
   "metadata": {},
   "outputs": [],
   "source": []
  },
  {
   "cell_type": "code",
   "execution_count": null,
   "metadata": {},
   "outputs": [],
   "source": []
  },
  {
   "cell_type": "code",
   "execution_count": null,
   "metadata": {},
   "outputs": [],
   "source": []
  }
 ],
 "metadata": {
  "kernelspec": {
   "display_name": "Python 3",
   "language": "python",
   "name": "python3"
  },
  "language_info": {
   "codemirror_mode": {
    "name": "ipython",
    "version": 3
   },
   "file_extension": ".py",
   "mimetype": "text/x-python",
   "name": "python",
   "nbconvert_exporter": "python",
   "pygments_lexer": "ipython3",
   "version": "3.7.4"
  }
 },
 "nbformat": 4,
 "nbformat_minor": 4
}
